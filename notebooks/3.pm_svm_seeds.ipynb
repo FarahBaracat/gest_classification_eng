{
 "cells": [
  {
   "cell_type": "code",
   "execution_count": 5,
   "metadata": {},
   "outputs": [
    {
     "name": "stdout",
     "output_type": "stream",
     "text": [
      "Notebook dir: /Users/farahbaracat/Documents/PhD Research/Code/class_eng_snn/notebooks\n",
      "Project dir: /Users/farahbaracat/Documents/PhD Research/Code/class_eng_snn.\n",
      "The autoreload extension is already loaded. To reload it, use:\n",
      "  %reload_ext autoreload\n"
     ]
    }
   ],
   "source": [
    "import logging\n",
    "import os\n",
    "import sys\n",
    "import papermill as pm\n",
    "\n",
    "notebook_dir = os.getcwd()\n",
    "project_dir = os.path.dirname(notebook_dir)\n",
    "\n",
    "if project_dir not in sys.path:\n",
    "    sys.path.insert(0, project_dir)\n",
    "\n",
    "print(f'Notebook dir: {notebook_dir}\\nProject dir: {project_dir}.')\n",
    "\n",
    "from collections import namedtuple\n",
    "import numpy as np\n",
    "\n",
    "logging.getLogger().setLevel(logging.INFO)\n",
    "%load_ext autoreload\n",
    "%autoreload 2"
   ]
  },
  {
   "cell_type": "code",
   "execution_count": 6,
   "metadata": {},
   "outputs": [],
   "source": [
    "NOTEBOOK_DIR = os.path.join(notebook_dir, \"generated_notebooks\")\n",
    "\n",
    "if not os.path.exists(NOTEBOOK_DIR):\n",
    "    os.makedirs(NOTEBOOK_DIR)"
   ]
  },
  {
   "cell_type": "markdown",
   "metadata": {},
   "source": [
    "# Run with multiple random seeds on all days"
   ]
  },
  {
   "cell_type": "code",
   "execution_count": 7,
   "metadata": {},
   "outputs": [
    {
     "data": {
      "text/plain": [
       "array([102, 435, 860, 270, 106,  71, 700,  20, 614, 121])"
      ]
     },
     "execution_count": 7,
     "metadata": {},
     "output_type": "execute_result"
    }
   ],
   "source": [
    "# generate 20 random integers\n",
    "np.random.seed(42)  # fix seed for random number generator, to reproduce the same results\n",
    "N = 10\n",
    "seeds = np.random.randint(0,1000, N)\n",
    "seeds\n",
    "# seeds[2:]"
   ]
  },
  {
   "cell_type": "code",
   "execution_count": 8,
   "metadata": {},
   "outputs": [
    {
     "name": "stdout",
     "output_type": "stream",
     "text": [
      "Day 16 | Session 01  |  Seed 102\n"
     ]
    },
    {
     "data": {
      "application/vnd.jupyter.widget-view+json": {
       "model_id": "dc0d1e5f836d4053be8c310f50fd321c",
       "version_major": 2,
       "version_minor": 0
      },
      "text/plain": [
       "Executing:   0%|          | 0/21 [00:00<?, ?cell/s]"
      ]
     },
     "metadata": {},
     "output_type": "display_data"
    },
    {
     "name": "stderr",
     "output_type": "stream",
     "text": [
      "0.00s - Debugger warning: It seems that frozen modules are being used, which may\n",
      "0.00s - make the debugger miss breakpoints. Please pass -Xfrozen_modules=off\n",
      "0.00s - to python to disable frozen modules.\n",
      "0.00s - Note: Debugging will proceed. Set PYDEVD_DISABLE_FILE_VALIDATION=1 to disable this validation.\n"
     ]
    }
   ],
   "source": [
    "\n",
    "parameters = dict(\n",
    "    day = 16,\n",
    "    session = '01',\n",
    "    feature = 'power', \n",
    "    wind_size = 0.100,  \n",
    "    overlap_perc = 0.5,\n",
    "    organize_strat = 'flx_vs_ext_separate',\n",
    "    seed = 10,\n",
    "    k_cv=5\n",
    ")\n",
    "\n",
    "\n",
    "for day in [16, 17, 23]: \n",
    "    for seed in seeds:\n",
    " \n",
    "        print(f\"Day {day} | Session {parameters['session']}  |  Seed {seed}\")\n",
    "        parameters['day'] = day\n",
    "        parameters['seed'] = int(seed)\n",
    "        parameters['session'] = '01'\n",
    "        output_notebook_name = f\"svm_day{day}_seed{seed}_session_{parameters['session']}.ipynb\"\n",
    "        pm.execute_notebook(\n",
    "            '1.svm_per_day.ipynb',\n",
    "            os.path.join(NOTEBOOK_DIR, output_notebook_name),\n",
    "            parameters=parameters\n",
    "        )"
   ]
  },
  {
   "cell_type": "code",
   "execution_count": null,
   "metadata": {},
   "outputs": [],
   "source": []
  }
 ],
 "metadata": {
  "kernelspec": {
   "display_name": "Python 3",
   "language": "python",
   "name": "python3"
  },
  "language_info": {
   "codemirror_mode": {
    "name": "ipython",
    "version": 3
   },
   "file_extension": ".py",
   "mimetype": "text/x-python",
   "name": "python",
   "nbconvert_exporter": "python",
   "pygments_lexer": "ipython3",
   "version": "3.11.6"
  }
 },
 "nbformat": 4,
 "nbformat_minor": 2
}
