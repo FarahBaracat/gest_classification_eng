{
 "cells": [
  {
   "cell_type": "code",
   "execution_count": 3,
   "metadata": {},
   "outputs": [
    {
     "name": "stdout",
     "output_type": "stream",
     "text": [
      "The autoreload extension is already loaded. To reload it, use:\n",
      "  %reload_ext autoreload\n"
     ]
    }
   ],
   "source": [
    "import os\n",
    "import sys\n",
    "notebook_dir = os.getcwd()\n",
    "project_dir = os.path.dirname(notebook_dir)\n",
    "if project_dir not in sys.path:\n",
    "    sys.path.insert(0, project_dir)\n",
    "\n",
    "from sklearn.discriminant_analysis import LinearDiscriminantAnalysis as LDA\n",
    "from utils.preprocess_analog import compute_stat_in_time_all, scale_dataset\n",
    "\n",
    "from constants import *\n",
    "\n",
    "import numpy as np\n",
    "import pandas as pd\n",
    "import pickle as pkl\n",
    "import seaborn as sns\n",
    "from collections import namedtuple, Counter\n",
    "import matplotlib\n",
    "import matplotlib.gridspec as gridspec\n",
    "import matplotlib.pyplot as plt\n",
    "import logging\n",
    "\n",
    "%load_ext autoreload\n",
    "%autoreload 2\n",
    "\n",
    "\n",
    "\n",
    "matplotlib.rc('axes', edgecolor=COLOR_DICT['clouds'], linewidth=0.4)\n",
    "matplotlib.rcParams.update({'font.size': 6})\n",
    "\n",
    "logging.getLogger().setLevel(logging.INFO)"
   ]
  },
  {
   "cell_type": "code",
   "execution_count": 3,
   "metadata": {},
   "outputs": [],
   "source": [
    "# create directory for figures if it doesn't exist\n",
    "LDA_FIG = 'figures/lda'\n",
    "if not os.path.exists(LDA_FIG):\n",
    "    os.makedirs(LDA_FIG)"
   ]
  },
  {
   "cell_type": "code",
   "execution_count": 4,
   "metadata": {},
   "outputs": [],
   "source": [
    "file_post = os.path.join(POST_PROC_DIR, f'day{DAY}{SESSION}_data_post.pkl')\n",
    "\n",
    "with open(file_post, 'rb') as f:\n",
    "    data_post = pkl.load(f)\n",
    "\n",
    "\n",
    "# unpacking data\n",
    "trig_df_post = data_post['trig_df_post']\n",
    "filt_df = data_post['filt_df']\n",
    "n_reps = data_post['n_reps']"
   ]
  },
  {
   "cell_type": "code",
   "execution_count": 5,
   "metadata": {},
   "outputs": [
    {
     "data": {
      "text/plain": [
       "(Index([       0,        3,        4,        5,        6,        7,        8,\n",
       "               9,       10,       11,       12,       13,       14,       15,\n",
       "              16,       17,       18,       19,       20,       21,       22,\n",
       "              23,       24,       25,       26,       27,       28,       29,\n",
       "              30,       31,       32,       33,       34,       35,       36,\n",
       "              37,       38,       39,       40,       41,       42,       44,\n",
       "              45,       46,       47,       48,       49,       50,       51,\n",
       "              52,       53,       54,       55, 'rep_id',  'label',   'Time'],\n",
       "       dtype='object'),\n",
       " (152, 2))"
      ]
     },
     "execution_count": 5,
     "metadata": {},
     "output_type": "execute_result"
    }
   ],
   "source": [
    "\n",
    "bin_width = 0.2\n",
    "Gest = namedtuple('gesture', ['id', 'phase'])\n",
    "sel_gest = [Gest(0,EXT_PHASE),Gest(1,FLX_PHASE), Gest(3,FLX_PHASE),Gest(4,FLX_PHASE)] \n",
    "\n",
    "X = compute_stat_in_time_all(filt_df, trig_df_post, n_reps, sel_gest, FLX_DUR, \n",
    "                            EXT_DUR, REST_DUR, bin_width, bin_stat='pow')\n",
    "\n",
    "\n",
    "# normalize first: mean centering to make sure that the fist PC is in the direction of max var, normalize features to make sure they are on the same scale\n",
    "X_scaled = scale_dataset(X.drop([LABEL_VAR,REP_VAR, TIME_VAR], axis=1))\n",
    "\n",
    "X_LDA = LDA(n_components=2).fit_transform(X_scaled, X[LABEL_VAR])\n",
    "\n",
    "X.columns, X_LDA.shape\n"
   ]
  },
  {
   "cell_type": "code",
   "execution_count": 6,
   "metadata": {},
   "outputs": [],
   "source": [
    "X_LDA_df = pd.DataFrame(X_LDA, columns=['LDA1', 'LDA2'])\n",
    "X_LDA_df[LABEL_VAR] = X[LABEL_VAR]\n",
    "\n",
    "X_LDA_df['gest_name'] = X_LDA_df[LABEL_VAR].map(dict(zip(range(4), ['Tripod', 'ThOpp.', 'UlnarFing.', 'FingAbd.'])))\n",
    "# X_LDA_df['color'] = X_LDA_df[LABEL_VAR].map(dict(zip(range(4), ['red', 'blue', 'green', 'orange'])))\n"
   ]
  },
  {
   "cell_type": "code",
   "execution_count": 14,
   "metadata": {},
   "outputs": [
    {
     "data": {
      "image/png": "[encoded data removed]",
      "text/plain": [
       "<Figure size 300x200 with 1 Axes>"
      ]
     },
     "metadata": {},
     "output_type": "display_data"
    }
   ],
   "source": [
    "from matplotlib import cm\n",
    "from matplotlib.colors import ListedColormap, LinearSegmentedColormap\n",
    "\n",
    "fig = plt.figure(figsize=(3,2))\n",
    "top = cm.get_cmap('Oranges_r', 128)\n",
    "bottom = cm.get_cmap('Blues', 128)\n",
    "\n",
    "\n",
    "# construct cmap\n",
    "flatui = [COLOR_DICT['wisteria'], COLOR_DICT['viz_orange'],  COLOR_DICT['orange'],COLOR_DICT['naval'],]\n",
    "            #[COLOR_DICT['green_sea'], COLOR_DICT['viz_orange'],\n",
    "            # COLOR_DICT['wisteria'], COLOR_DICT['naval']]\n",
    "\n",
    "my_cmap = ListedColormap(sns.color_palette(flatui).as_hex())\n",
    "\n",
    "\n",
    "\n",
    "plt.set_cmap('Set3_r')\n",
    "sp_names = ['Tripod', 'ThOpp.', 'UlnarFing.', 'FingAbd.']\n",
    "scatter = plt.scatter(X_LDA_df.LDA1, \n",
    "            X_LDA_df.LDA2,\n",
    "            s=10,\n",
    "            c=X_LDA_df.gest_name.astype('category').cat.codes, alpha=1, cmap=my_cmap) \n",
    "\n",
    "plt.xlabel(\"C1\", size=8)\n",
    "plt.ylabel(\"C2\", size=8)\n",
    "\n",
    "# add legend to the plot with names\n",
    "plt.legend(handles=scatter.legend_elements()[0], \n",
    "           labels=sp_names, ncol=2, fontsize=6, \n",
    "           loc='upper left',numpoints=1, markerscale=0.5, columnspacing=0.2)\n",
    "\n",
    "plt.ylim([-6,5])\n",
    "plt.xlim([-6.5,5])\n",
    "plt.show()\n",
    "\n",
    "\n",
    "# save fig\n",
    "# fig.savefig(os.path.join(LDA_FIG, f'lda_2comp_tripod_open_bin_{bin_width}.png'), dpi=300, bbox_inches='tight')"
   ]
  },
  {
   "cell_type": "code",
   "execution_count": 278,
   "metadata": {},
   "outputs": [],
   "source": [
    "# import seaborn as sns\n",
    "# plt.figure(figsize=(4,2))\n",
    "# # ax = fig.add_subplot(111)\n",
    "# sns.lmplot('LDA1', 'LDA2', data=X_LDA_df, hue='gest_name', fit_reg=False)\n",
    "# plt.show()"
   ]
  },
  {
   "cell_type": "code",
   "execution_count": null,
   "metadata": {},
   "outputs": [],
   "source": []
  }
 ],
 "metadata": {
  "kernelspec": {
   "display_name": "snn",
   "language": "python",
   "name": "python3"
  },
  "language_info": {
   "codemirror_mode": {
    "name": "ipython",
    "version": 3
   },
   "file_extension": ".py",
   "mimetype": "text/x-python",
   "name": "python",
   "nbconvert_exporter": "python",
   "pygments_lexer": "ipython3",
   "version": "3.11.6"
  },
  "orig_nbformat": 4
 },
 "nbformat": 4,
 "nbformat_minor": 2
}
